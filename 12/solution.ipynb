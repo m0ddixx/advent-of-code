{
 "cells": [
  {
   "cell_type": "code",
   "execution_count": 47,
   "metadata": {},
   "outputs": [],
   "source": [
    "from binarytree import tree, bst, heap, Node, build"
   ]
  },
  {
   "cell_type": "code",
   "execution_count": 48,
   "metadata": {},
   "outputs": [
    {
     "name": "stdout",
     "output_type": "stream",
     "text": [
      "pf-pk\n",
      "ZQ-iz\n",
      "iz-NY\n",
      "ZQ-end\n",
      "pf-gx\n",
      "pk-ZQ\n",
      "ZQ-dc\n",
      "NY-start\n",
      "NY-pf\n",
      "NY-gx\n",
      "ag-ZQ\n",
      "pf-start\n",
      "start-gx\n",
      "BN-ag\n",
      "iz-pf\n",
      "ag-FD\n",
      "pk-NY\n",
      "gx-pk\n",
      "end-BN\n",
      "ag-pf\n",
      "iz-pk\n",
      "pk-ag\n",
      "iz-end\n",
      "iz-BN\n"
     ]
    }
   ],
   "source": [
    "file = open(\"./input.txt\", \"r\")\n",
    "input = file.read()\n",
    "print(input)"
   ]
  },
  {
   "cell_type": "code",
   "execution_count": 90,
   "metadata": {},
   "outputs": [
    {
     "name": "stdout",
     "output_type": "stream",
     "text": [
      "\n",
      "                                                                                                                                                                              __________________________________________________________________________________________________________________________________________________________________________11511697114116_______________________________________________________________________________________________________________________________________________________________________\n",
      "                                                                                                                                                                             /                                                                                                                                                                                                                                                                                                                                                               \\\n",
      "                                                                                        _______________________________________________________________________________11511697114_____________________________________________________________________________                                                                                                                                                                                                    ________________________________________________________________________11511697______________________________________\n",
      "                                                                                       /                                                                                                                                                                       \\                                                                                                                                                                                                  /                                                                                                                      \\\n",
      "                                         ___________________________________________115116___________________________________                                                                                          ________________________________________115_______________________________________                                                                                                      ____________________________________________11511697114116_______________________________________                                                    _________________11511697114________________\n",
      "                                        /                                                                                    \\                                                                                        /                                                                                  \\                                                                                                    /                                                                                                 \\                                                  /                                            \\\n",
      "                     _______________11511697____________________                                              ______________115116___________________                                                _______________115_______________________                                       _______________11511697114116__________________                                                      ______________11511697114____________________                                                        _______________11511697_____________                         ____115116______                               _____115_________\n",
      "                    /                                           \\                                            /                                       \\                                              /                                         \\                                     /                                               \\                                                    /                                             \\                                                      /                                    \\                       /                \\                             /                 \\\n",
      "           _______112_______                            _______112102________                        ______112______                          ______112107_____                              ______90_______                      ____________9081____                    ________105____                                 _________105122____                                 _________105____                              __________105122____                                       ______78________                         ___7889                 __90              __9081_                    ___101_            ___101110\n",
      "          /                 \\                          /                     \\                      /               \\                        /                 \\                            /               \\                    /                    \\                  /               \\                               /                   \\                               /                \\                            /                    \\                                     /                \\                       /       \\               /    \\            /       \\                  /       \\          /         \\\n",
      "   __101110100            __112_                 ___112102_               ___103               __103120           __112_               ___112107              __90_                    ___9081_           ___90_            ___9081____              _100_           _10099__            _78__                        _7889__                _78__                        _7889__            _112__                    _112102__                _78__                           ____7889_           ___103                __103120      97          97103    90        9081      112             112102     103     103120        66\n",
      "  /           \\          /      \\               /          \\             /      \\             /        \\         /      \\             /         \\            /     \\                  /        \\         /      \\          /           \\            /     \\         /        \\          /     \\                      /       \\              /     \\                      /       \\          /      \\                  /         \\              /     \\                         /         \\         /      \\              /\n",
      "6678           97     97103     105          105122        112        112102     97        97103        70     7068     112        112107        78        7889    103             103120      112    112107    101     101110      101110100      66     6678     97       97103     112    112102                105      105122        112    112107                112      112107     97     97103             105        105122        101    101110                101110100      105    105122     66          6678\n",
      "\n"
     ]
    },
    {
     "ename": "FileNotFoundError",
     "evalue": "[Errno 2] No such file or directory: './output.txt'",
     "output_type": "error",
     "traceback": [
      "\u001b[0;31m---------------------------------------------------------------------------\u001b[0m",
      "\u001b[0;31mFileNotFoundError\u001b[0m                         Traceback (most recent call last)",
      "\u001b[0;32m/tmp/ipykernel_2928/2478218104.py\u001b[0m in \u001b[0;36m<module>\u001b[0;34m\u001b[0m\n\u001b[1;32m     16\u001b[0m \u001b[0mroot\u001b[0m \u001b[0;34m=\u001b[0m \u001b[0mbuild\u001b[0m\u001b[0;34m(\u001b[0m\u001b[0mnodes\u001b[0m\u001b[0;34m)\u001b[0m\u001b[0;34m\u001b[0m\u001b[0;34m\u001b[0m\u001b[0m\n\u001b[1;32m     17\u001b[0m \u001b[0mp\u001b[0m \u001b[0;34m=\u001b[0m \u001b[0mroot\u001b[0m\u001b[0;34m.\u001b[0m\u001b[0mpprint\u001b[0m\u001b[0;34m(\u001b[0m\u001b[0;34m)\u001b[0m\u001b[0;34m\u001b[0m\u001b[0;34m\u001b[0m\u001b[0m\n\u001b[0;32m---> 18\u001b[0;31m \u001b[0;32mwith\u001b[0m \u001b[0mopen\u001b[0m\u001b[0;34m(\u001b[0m\u001b[0;34m\"./output.txt\"\u001b[0m\u001b[0;34m)\u001b[0m \u001b[0;32mas\u001b[0m \u001b[0mo\u001b[0m\u001b[0;34m:\u001b[0m\u001b[0;34m\u001b[0m\u001b[0;34m\u001b[0m\u001b[0m\n\u001b[0m\u001b[1;32m     19\u001b[0m     \u001b[0mprint\u001b[0m\u001b[0;34m(\u001b[0m\u001b[0mp\u001b[0m\u001b[0;34m,\u001b[0m \u001b[0mfile\u001b[0m\u001b[0;34m=\u001b[0m\u001b[0mo\u001b[0m\u001b[0;34m)\u001b[0m\u001b[0;34m\u001b[0m\u001b[0;34m\u001b[0m\u001b[0m\n\u001b[1;32m     20\u001b[0m     \u001b[0mo\u001b[0m\u001b[0;34m.\u001b[0m\u001b[0mclose\u001b[0m\u001b[0;34m(\u001b[0m\u001b[0;34m)\u001b[0m\u001b[0;34m\u001b[0m\u001b[0;34m\u001b[0m\u001b[0m\n",
      "\u001b[0;31mFileNotFoundError\u001b[0m: [Errno 2] No such file or directory: './output.txt'"
     ]
    }
   ],
   "source": [
    "connections = input.split('\\n')\n",
    "dict = {}\n",
    "nodes = []\n",
    "for connection in connections:\n",
    "    x = connection.split('-')\n",
    "    for n in x:\n",
    "        ascii_values = [ord(character) for character in n]\n",
    "        value = \"\"\n",
    "        for digit in ascii_values:\n",
    "            value = value + str(digit)\n",
    "            if len(ascii_values) >= 4:\n",
    "                nodes.insert(0, int(value))\n",
    "            else:\n",
    "                nodes.append(int(value))\n",
    "        dict[n] = value\n",
    "root = build(nodes)\n",
    "p = root.pprint()\n",
    "with open(\"./output.txt\", \"w\") as o:\n",
    "    print(p, file=o)\n",
    "    o.close()"
   ]
  },
  {
   "cell_type": "code",
   "execution_count": 76,
   "metadata": {},
   "outputs": [
    {
     "data": {
      "text/plain": [
       "[Node(112102),\n",
       " Node(112107),\n",
       " Node(9081),\n",
       " Node(105122),\n",
       " Node(105122),\n",
       " Node(7889),\n",
       " Node(9081),\n",
       " Node(101110100),\n",
       " Node(112102),\n",
       " Node(103120),\n",
       " Node(112107),\n",
       " Node(9081),\n",
       " Node(9081),\n",
       " Node(10099),\n",
       " Node(7889),\n",
       " Node(11511697114116),\n",
       " Node(7889),\n",
       " Node(112102),\n",
       " Node(7889),\n",
       " Node(103120),\n",
       " Node(97103),\n",
       " Node(9081),\n",
       " Node(112102),\n",
       " Node(11511697114116),\n",
       " Node(11511697114116),\n",
       " Node(103120),\n",
       " Node(6678),\n",
       " Node(97103),\n",
       " Node(105122),\n",
       " Node(112102),\n",
       " Node(97103),\n",
       " Node(7068),\n",
       " Node(112107),\n",
       " Node(7889),\n",
       " Node(103120),\n",
       " Node(112107),\n",
       " Node(101110100),\n",
       " Node(6678),\n",
       " Node(97103),\n",
       " Node(112102),\n",
       " Node(105122),\n",
       " Node(112107),\n",
       " Node(112107),\n",
       " Node(97103),\n",
       " Node(105122),\n",
       " Node(101110100),\n",
       " Node(105122),\n",
       " Node(6678)]"
      ]
     },
     "execution_count": 76,
     "metadata": {},
     "output_type": "execute_result"
    }
   ],
   "source": [
    "root.levelorder"
   ]
  }
 ],
 "metadata": {
  "interpreter": {
   "hash": "102f73d77db8f9e0c75b800ffd71173bec971c7aa34b8f73fca7d4247b616f8e"
  },
  "kernelspec": {
   "display_name": "Python 3.7.6 64-bit ('base': conda)",
   "language": "python",
   "name": "python3"
  },
  "language_info": {
   "codemirror_mode": {
    "name": "ipython",
    "version": 3
   },
   "file_extension": ".py",
   "mimetype": "text/x-python",
   "name": "python",
   "nbconvert_exporter": "python",
   "pygments_lexer": "ipython3",
   "version": "3.7.6"
  },
  "orig_nbformat": 4
 },
 "nbformat": 4,
 "nbformat_minor": 2
}
